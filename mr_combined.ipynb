{
 "cells": [
  {
   "cell_type": "code",
   "execution_count": 57,
   "id": "79e00203-e73b-4976-bab4-bdcd4adbec8d",
   "metadata": {},
   "outputs": [],
   "source": [
    "import csv\n",
    "import numpy as np\n",
    "import pandas as pd\n",
    "import matplotlib.pyplot as plt\n",
    "from matplotlib.legend_handler import HandlerLineCollection, HandlerTuple\n",
    "\n",
    "\n",
    "import math"
   ]
  },
  {
   "cell_type": "code",
   "execution_count": 18,
   "id": "dc7afcb6-e67c-4e9e-aa0b-77ac005a8b84",
   "metadata": {},
   "outputs": [],
   "source": [
    "# columns: 1=p, 2=H2_mr, 3=CH4_mr, 4=CO_mr\n",
    "archean_abiotic_data = pd.read_csv('/data/jwm212/PALEOjulia/PALEOexamples/src/mphys2022/atmchem_methan_CO_JamesM/H2CH4COmr_abiotic_archean_Earth.csv', sep='\\t', header=None, skiprows=1)\n",
    "archean_bio_data = pd.read_csv('/data/jwm212/PALEOjulia/PALEOexamples/src/mphys2022/atmchem_methan_CO_JamesM/H2CH4COmr_bio_archean_Earth.csv', sep='\\t', header=None, skiprows=1)\n",
    "\n",
    "procb_bio_data = pd.read_csv('/data/jwm212/PALEOjulia/PALEOexamples/src/mphys2022/atmchem_methan_CO_JamesM/H2CH4COmr_bio_procb.csv', sep='\\t', header=None, skiprows=1)\n",
    "procb_abiotic_data = pd.read_csv('/data/jwm212/PALEOjulia/PALEOexamples/src/mphys2022/atmchem_methan_CO_JamesM/H2CH4COmr_abiotic_procb.csv', sep='\\t', header=None, skiprows=1)\n"
   ]
  },
  {
   "cell_type": "code",
   "execution_count": 19,
   "id": "9fefb8dc-1e2e-46c4-a341-30398e4e44c0",
   "metadata": {},
   "outputs": [],
   "source": [
    "def Extract(output):\n",
    "    data = [np.array(output[1]),\n",
    "            np.array(output[2]),\n",
    "            np.array(output[3]),\n",
    "            np.array(output[4])]\n",
    "    for i in data:\n",
    "        [float(j) for j in i]\n",
    "        \n",
    "    for i in data:    \n",
    "        i.tolist().reverse()\n",
    "    \n",
    "    p = data[0]\n",
    "    h2_mr = data[1]\n",
    "    ch4_mr = data[2]\n",
    "    co_mr = data[3]\n",
    "    \n",
    "    z = []\n",
    "    for i in p:\n",
    "        z.append(((5e3)*math.log(1e5/i))/1e3)\n",
    "        \n",
    "    return z, h2_mr, ch4_mr, co_mr"
   ]
  },
  {
   "cell_type": "code",
   "execution_count": 20,
   "id": "354a0773-308d-4f2d-8795-8c711d2cc3e6",
   "metadata": {},
   "outputs": [],
   "source": [
    "ar_abiotic_z, ar_abiotic_H2, ar_abiotic_CH4, ar_abiotic_CO = Extract(archean_abiotic_data)[0], Extract(archean_abiotic_data)[1], Extract(archean_abiotic_data)[2], Extract(archean_abiotic_data)[3]\n",
    "ar_bio_z, ar_bio_H2, ar_bio_CH4, ar_bio_CO = Extract(archean_bio_data)[0], Extract(archean_bio_data)[1], Extract(archean_bio_data)[2], Extract(archean_bio_data)[3]\n",
    "\n",
    "proc_bio_z, proc_bio_H2, proc_bio_CH4, proc_bio_CO = Extract(procb_bio_data)[0], Extract(procb_bio_data)[1], Extract(procb_bio_data)[2], Extract(procb_bio_data)[3]\n",
    "proc_abiotic_z, proc_abiotic_H2, proc_abiotic_CH4, proc_abiotic_CO = Extract(procb_abiotic_data)[0], Extract(procb_abiotic_data)[1], Extract(procb_abiotic_data)[2], Extract(procb_abiotic_data)[3]\n"
   ]
  },
  {
   "cell_type": "code",
   "execution_count": null,
   "id": "114d5219-2aac-4918-98d1-f1c532a6911d",
   "metadata": {},
   "outputs": [
    {
     "data": {
      "text/plain": [
       "[]"
      ]
     },
     "execution_count": 65,
     "metadata": {},
     "output_type": "execute_result"
    }
   ],
   "source": [
    "fig = plt.figure(figsize=(5,2), dpi= 500, facecolor='w', edgecolor='k')\n",
    "(ax1, ax2) = fig.subplots(1, 2, sharey=True)\n",
    "ax2.set_zorder(-1)\n",
    "\n",
    "H2, = ax1.plot(ar_bio_H2,ar_bio_z,color='blue',linewidth=1)\n",
    "H2_a, = ax1.plot(ar_abiotic_H2,ar_abiotic_z,color='blue',linestyle='dashed',linewidth=1)\n",
    "\n",
    "CH4, = ax1.plot(ar_bio_CH4,ar_bio_z,color='green', linewidth=1)\n",
    "CH4_a, = ax1.plot(ar_abiotic_CH4,ar_abiotic_z,color='green',linestyle='dashed',linewidth=1)\n",
    "\n",
    "CO, = ax1.plot(ar_bio_CO,ar_bio_z,color='orange', linewidth=1)\n",
    "CO_a, = ax1.plot(ar_abiotic_CO,ar_abiotic_z,color='orange',linestyle='dashed',linewidth=1)\n",
    "\n",
    "ax1.plot(0,0,color='black',label='Biotic',linewidth=1)\n",
    "ax1.plot(0,0,color='black',label=\"Abiotic\",linestyle='dashed',linewidth=1)\n",
    "\n",
    "ax2.plot(proc_bio_H2,proc_bio_z,color='blue',linewidth=1)\n",
    "ax2.plot(proc_abiotic_H2,proc_abiotic_z,color='blue',linestyle='dashed',linewidth=1)\n",
    "\n",
    "ax2.plot(proc_bio_CH4,proc_bio_z,color='green',linewidth=1)\n",
    "ax2.plot(proc_abiotic_CH4,proc_abiotic_z,color='green',linestyle='dashed',linewidth=1)\n",
    "\n",
    "ax2.plot(proc_bio_CO,proc_bio_z,color='orange',linewidth=1)\n",
    "ax2.plot(proc_abiotic_CO,proc_abiotic_z,color='orange',linestyle='dashed',linewidth=1)\n",
    "\n",
    "ax2.plot(0,0,color='black',label='Biotic',linewidth=1)\n",
    "ax2.plot(0,0,color='black',label=\"Abiotic\",linestyle='dashed',linewidth=1)\n",
    "\n",
    "#ax.set_axisbelow(True)\n",
    "#for axis in ['top','bottom','left','right']:\n",
    "#  ax.spines[axis].set_linewidth(1)\n",
    "\n",
    "for tick in ax1.get_xticklabels():\n",
    "    tick.set_fontname(\"Serif\")\n",
    "    tick.set_fontsize(10)\n",
    "for tick in ax1.get_yticklabels():\n",
    "    tick.set_fontname(\"Serif\")\n",
    "    tick.set_fontsize(10)\n",
    "for tick in ax2.get_xticklabels():\n",
    "    tick.set_fontname(\"Serif\")\n",
    "    tick.set_fontsize(10)\n",
    "for tick in ax2.get_yticklabels():\n",
    "    tick.set_fontname(\"Serif\")\n",
    "    tick.set_fontsize(10)\n",
    "    \n",
    "ax1.xaxis.set_tick_params(width=1)\n",
    "ax1.yaxis.set_tick_params(width=1)\n",
    "ax2.xaxis.set_tick_params(width=1)\n",
    "ax2.yaxis.set_tick_params(width=1)\n",
    "\n",
    "ax1.set_xscale('log')\n",
    "ax1.set_xlim(xmin=1e-7,xmax=1e-2)\n",
    "ax1.set_ylim(ymin=0,ymax=80)\n",
    "ax1.yaxis.set_ticks([0,20,40,60,80])\n",
    "ax2.set_xscale('log')\n",
    "ax2.set_xlim(xmin=1e-7,xmax=1e-2)\n",
    "ax2.set_ylim(ymin=0,ymax=80)\n",
    "ax2.yaxis.set_ticks([0,20,40,60,80])\n",
    "\n",
    "plt.xlabel(r'Volume Mixing Ratio ($m^3$/$m^3$)', fontname='Serif', fontsize=10,ha='right')\n",
    "ax1.set_ylabel(r'Height ($km$)', fontname='serif', fontsize=10)\n",
    "\n",
    "l = ax1.legend([(H2, H2_a), (CH4,CH4_a), (CO,CO_a)], [r'$H_2$', r'$CH_4$', r'$CO$'],\n",
    "               handler_map={tuple: HandlerTuple(ndivide=None)},\n",
    "               fontsize=10,loc='lower right',bbox_to_anchor=(1.4,0),framealpha=1.0)\n",
    "#ax1.legend(fontsize=10,loc='lower right',bbox_to_anchor=(1.4,0),framealpha=1.0)\n",
    "plt.savefig('mr_combined.jpg',bbox_inches='tight',)\n",
    "plt.plot()"
   ]
  },
  {
   "cell_type": "code",
   "execution_count": null,
   "id": "9045849f-435a-44f7-a13a-0099ec2a6ea2",
   "metadata": {},
   "outputs": [],
   "source": []
  }
 ],
 "metadata": {
  "kernelspec": {
   "display_name": "Python 3",
   "language": "python",
   "name": "python3"
  },
  "language_info": {
   "codemirror_mode": {
    "name": "ipython",
    "version": 3
   },
   "file_extension": ".py",
   "mimetype": "text/x-python",
   "name": "python",
   "nbconvert_exporter": "python",
   "pygments_lexer": "ipython3",
   "version": "3.8.8"
  }
 },
 "nbformat": 4,
 "nbformat_minor": 5
}
